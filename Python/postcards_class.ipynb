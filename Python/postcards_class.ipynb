{
 "cells": [
  {
   "cell_type": "code",
   "execution_count": 42,
   "metadata": {},
   "outputs": [],
   "source": [
    "import datetime"
   ]
  },
  {
   "cell_type": "code",
   "execution_count": 129,
   "metadata": {},
   "outputs": [],
   "source": [
    "class PostcardList():\n",
    "        def __init__(self):\n",
    "                self._file = ''\n",
    "                self._postcards = []\n",
    "                self._date = {}\n",
    "                self._from = {}\n",
    "                self._to = {}\n",
    "\n",
    "        def readFile(self, inputfile):\n",
    "            with open(inputfile, 'r') as f:\n",
    "                self._postcards=f.readlines()\n",
    "            \n",
    "        def updateLists(self, new_inputfile):\n",
    "            with open(new_inputfile, 'r') as f:\n",
    "                for line in f:\n",
    "                    self._postcards.append(line)\n",
    "            \n",
    "        def writeFile(self,filename):\n",
    "            with open(filename,'w') as f:\n",
    "                for elem in self._postcards:\n",
    "                    f.write(elem)\n",
    "\n",
    "        def updateFile(self, outputfile):\n",
    "            with open (outputfile, 'w') as f:\n",
    "                for elem in self._postcards:\n",
    "                    f.write (elem)\n",
    "\n",
    "        def parsePostcards(self):\n",
    "            for i, pcard in enumerate(self._postcards):\n",
    "                pcard = pcard.split(\";\")\n",
    "                date_key = pcard[0].split(\":\")[1]\n",
    "                from_key = pcard[1].split(\":\")[1]\n",
    "                to_key = pcard[2].split(\":\")[1]\n",
    "                date_key= datetime.datetime.strptime(date_key,\"%Y-%m-%d\")\n",
    "                date_key = date_key.date()\n",
    "                \n",
    "                if date_key not in self._date:\n",
    "                    self._date[date_key] = [i]      \n",
    "                else:\n",
    "                    self._date[date_key].append(i)\n",
    "\n",
    "                if from_key not in self._from:\n",
    "                    self._from[from_key] = [i]\n",
    "                else:\n",
    "                    self._from[from_key].append(i)\n",
    "                \n",
    "                if to_key not in self._to:\n",
    "                    self._to[to_key] = [i]\n",
    "                else:\n",
    "                    self._to[to_key].append(i)\n",
    "                    \n",
    "                \n",
    "        def getNumberOfPostcards(self):\n",
    "            n_pcard = len(self._postcards)\n",
    "            return n_pcard\n",
    "    \n",
    "        def getPostcardsByDateRange(self,date_range):\n",
    "            # date_range is a tuple\n",
    "            daterange_list = []\n",
    "            for date in (date_range[0], date_range[1]):\n",
    "                print(date)\n",
    "                #for i in self._date[date_range]:\n",
    "                    #daterange_list.append(self._postcards[i])\n",
    "                    \n",
    "            #return self._postcards[i]\n",
    "\n",
    "        def getPostcardsBySender(self, sender):\n",
    "                sender_list = []\n",
    "                if sender in self._from:\n",
    "                    for i in self._from[sender]:\n",
    "                        sender_list.append(self._postcards[i])\n",
    "                return sender_list\n",
    "\n",
    "        def getPostcardsByReceiver(self, receiver):\n",
    "                receiver_list = []\n",
    "                if receiver in self._to:\n",
    "                    for i in self._to[receiver]:\n",
    "                        receiver_list.append(self._postcards[i])\n",
    "                return receiver_list"
   ]
  },
  {
   "cell_type": "code",
   "execution_count": 130,
   "metadata": {},
   "outputs": [],
   "source": [
    "p = PostcardList()"
   ]
  },
  {
   "cell_type": "code",
   "execution_count": 131,
   "metadata": {},
   "outputs": [],
   "source": [
    "p.readFile(\"exam_postcard_list0.txt\")"
   ]
  },
  {
   "cell_type": "code",
   "execution_count": 132,
   "metadata": {},
   "outputs": [
    {
     "name": "stdout",
     "output_type": "stream",
     "text": [
      "['date:2013-09-16; from:Dewey; to:Happy;\\n', 'date:2017-03-31; from:Mickey; to:Pluto;\\n', 'date:2011-08-24; from:Dewey; to:Dopey;\\n', 'date:2016-10-23; from:Sneezy; to:Hook;\\n', 'date:2017-07-28; from:Sleepy; to:Huey;\\n', 'date:2010-06-23; from:Sneezy; to:Alice;\\n', 'date:2011-08-04; from:Louie; to:Grumpy;\\n', 'date:2014-05-04; from:Goofy; to:Happy;\\n', 'date:2016-04-18; from:Dopey; to:Minnie;\\n', 'date:2009-12-12; from:Dopey; to:Peter;\\n', 'date:2016-05-07; from:Bashful; to:Grumpy;\\n', 'date:2014-04-21; from:Peter; to:Dewey;\\n', 'date:2014-07-31; from:Daisy; to:$crooge;\\n', 'date:2015-11-28; from:Dewey; to:Alice;\\n', 'date:2011-08-07; from:Happy; to:Sneezy;\\n', 'date:2008-03-23; from:Sneezy; to:Pluto;\\n', 'date:2008-06-03; from:Goofy; to:Pluto;\\n', 'date:2014-07-21; from:Daisy; to:Donald;\\n', 'date:2012-11-14; from:Goofy; to:Louie;\\n']\n"
     ]
    }
   ],
   "source": [
    "print(p._postcards)"
   ]
  },
  {
   "cell_type": "code",
   "execution_count": 133,
   "metadata": {},
   "outputs": [],
   "source": [
    "p.parsePostcards()"
   ]
  },
  {
   "cell_type": "code",
   "execution_count": 152,
   "metadata": {},
   "outputs": [
    {
     "name": "stdout",
     "output_type": "stream",
     "text": [
      "{datetime.date(2013, 9, 16): [0, 0, 0], datetime.date(2017, 3, 31): [1, 1, 1], datetime.date(2011, 8, 24): [2, 2, 2], datetime.date(2016, 10, 23): [3, 3, 3], datetime.date(2017, 7, 28): [4, 4, 4], datetime.date(2010, 6, 23): [5, 5, 5], datetime.date(2011, 8, 4): [6, 6, 6], datetime.date(2014, 5, 4): [7, 7, 7], datetime.date(2016, 4, 18): [8, 8, 8], datetime.date(2009, 12, 12): [9, 9, 9], datetime.date(2016, 5, 7): [10, 10, 10], datetime.date(2014, 4, 21): [11, 11, 11], datetime.date(2014, 7, 31): [12, 12, 12], datetime.date(2015, 11, 28): [13, 13, 13], datetime.date(2011, 8, 7): [14, 14, 14], datetime.date(2008, 3, 23): [15, 15, 15], datetime.date(2008, 6, 3): [16, 16, 16], datetime.date(2014, 7, 21): [17, 17, 17], datetime.date(2012, 11, 14): [18, 18, 18], datetime.date(2017, 4, 5): [19], datetime.date(2013, 6, 19): [20], datetime.date(2011, 7, 3): [21], datetime.date(2015, 5, 5): [22], datetime.date(2017, 6, 15): [23], datetime.date(2016, 1, 19): [24], datetime.date(2013, 12, 12): [25], datetime.date(2013, 11, 25): [26], datetime.date(2016, 8, 23): [27], datetime.date(2011, 5, 31): [28], datetime.date(2008, 1, 31): [29], datetime.date(2015, 10, 23): [30], datetime.date(2014, 3, 22): [31], datetime.date(2015, 8, 1): [32]}\n",
      "{'Dewey': [0, 2, 13, 0, 2, 13, 0, 2, 13], 'Mickey': [1, 1, 1], 'Sneezy': [3, 5, 15, 3, 5, 15, 3, 5, 15], 'Sleepy': [4, 4, 4, 29, 31, 32], 'Louie': [6, 6, 6, 28], 'Goofy': [7, 16, 18, 7, 16, 18, 7, 16, 18], 'Dopey': [8, 9, 8, 9, 8, 9, 20, 27], 'Bashful': [10, 10, 10, 19, 26], 'Peter': [11, 11, 11], 'Daisy': [12, 17, 12, 17, 12, 17], 'Happy': [14, 14, 14, 25], 'Huey': [21, 23], '$crooge': [22], 'Minnie': [24], 'Doc': [30]}\n",
      "{'Happy': [0, 7, 0, 7, 0, 7, 23], 'Pluto': [1, 15, 16, 1, 15, 16, 1, 15, 16], 'Dopey': [2, 2, 2], 'Hook': [3, 3, 3], 'Huey': [4, 4, 4, 22, 25], 'Alice': [5, 13, 5, 13, 5, 13], 'Grumpy': [6, 10, 6, 10, 6, 10, 32], 'Minnie': [8, 8, 8, 19, 27], 'Peter': [9, 9, 9], 'Dewey': [11, 11, 11, 26], '$crooge': [12, 12, 12], 'Sneezy': [14, 14, 14, 20, 21], 'Donald': [17, 17, 17], 'Louie': [18, 18, 18], 'Sleepy': [24], 'Bashful': [28], 'SnowWhite': [29, 30], 'Mickey': [31]}\n",
      "<class 'datetime.date'>\n"
     ]
    }
   ],
   "source": [
    "print(p._date)\n",
    "print(p._from)\n",
    "print(p._to)\n",
    "print(type(date_key))"
   ]
  },
  {
   "cell_type": "code",
   "execution_count": 135,
   "metadata": {},
   "outputs": [
    {
     "name": "stdout",
     "output_type": "stream",
     "text": [
      "0 date:2013-09-16; from:Dewey; to:Happy;\n",
      "\n",
      "1 date:2017-03-31; from:Mickey; to:Pluto;\n",
      "\n",
      "2 date:2011-08-24; from:Dewey; to:Dopey;\n",
      "\n",
      "3 date:2016-10-23; from:Sneezy; to:Hook;\n",
      "\n",
      "4 date:2017-07-28; from:Sleepy; to:Huey;\n",
      "\n",
      "5 date:2010-06-23; from:Sneezy; to:Alice;\n",
      "\n",
      "6 date:2011-08-04; from:Louie; to:Grumpy;\n",
      "\n",
      "7 date:2014-05-04; from:Goofy; to:Happy;\n",
      "\n",
      "8 date:2016-04-18; from:Dopey; to:Minnie;\n",
      "\n",
      "9 date:2009-12-12; from:Dopey; to:Peter;\n",
      "\n",
      "10 date:2016-05-07; from:Bashful; to:Grumpy;\n",
      "\n",
      "11 date:2014-04-21; from:Peter; to:Dewey;\n",
      "\n",
      "12 date:2014-07-31; from:Daisy; to:$crooge;\n",
      "\n",
      "13 date:2015-11-28; from:Dewey; to:Alice;\n",
      "\n",
      "14 date:2011-08-07; from:Happy; to:Sneezy;\n",
      "\n",
      "15 date:2008-03-23; from:Sneezy; to:Pluto;\n",
      "\n",
      "16 date:2008-06-03; from:Goofy; to:Pluto;\n",
      "\n",
      "17 date:2014-07-21; from:Daisy; to:Donald;\n",
      "\n",
      "18 date:2012-11-14; from:Goofy; to:Louie;\n",
      "\n"
     ]
    }
   ],
   "source": [
    "for i, pcard in enumerate(p._postcards):\n",
    "    print (i, pcard)"
   ]
  },
  {
   "cell_type": "code",
   "execution_count": 136,
   "metadata": {},
   "outputs": [
    {
     "name": "stdout",
     "output_type": "stream",
     "text": [
      "['date:2013-09-16', ' from:Dewey', ' to:Happy', '\\n']\n",
      "['date:2017-03-31', ' from:Mickey', ' to:Pluto', '\\n']\n",
      "['date:2011-08-24', ' from:Dewey', ' to:Dopey', '\\n']\n",
      "['date:2016-10-23', ' from:Sneezy', ' to:Hook', '\\n']\n",
      "['date:2017-07-28', ' from:Sleepy', ' to:Huey', '\\n']\n",
      "['date:2010-06-23', ' from:Sneezy', ' to:Alice', '\\n']\n",
      "['date:2011-08-04', ' from:Louie', ' to:Grumpy', '\\n']\n",
      "['date:2014-05-04', ' from:Goofy', ' to:Happy', '\\n']\n",
      "['date:2016-04-18', ' from:Dopey', ' to:Minnie', '\\n']\n",
      "['date:2009-12-12', ' from:Dopey', ' to:Peter', '\\n']\n",
      "['date:2016-05-07', ' from:Bashful', ' to:Grumpy', '\\n']\n",
      "['date:2014-04-21', ' from:Peter', ' to:Dewey', '\\n']\n",
      "['date:2014-07-31', ' from:Daisy', ' to:$crooge', '\\n']\n",
      "['date:2015-11-28', ' from:Dewey', ' to:Alice', '\\n']\n",
      "['date:2011-08-07', ' from:Happy', ' to:Sneezy', '\\n']\n",
      "['date:2008-03-23', ' from:Sneezy', ' to:Pluto', '\\n']\n",
      "['date:2008-06-03', ' from:Goofy', ' to:Pluto', '\\n']\n",
      "['date:2014-07-21', ' from:Daisy', ' to:Donald', '\\n']\n",
      "['date:2012-11-14', ' from:Goofy', ' to:Louie', '\\n']\n"
     ]
    }
   ],
   "source": [
    "for i, pcard in enumerate(p._postcards):\n",
    "    pcard = pcard.split(\";\")\n",
    "    print (pcard)"
   ]
  },
  {
   "cell_type": "code",
   "execution_count": 137,
   "metadata": {},
   "outputs": [
    {
     "name": "stdout",
     "output_type": "stream",
     "text": [
      "2013-09-16 Dewey Happy\n",
      "2017-03-31 Mickey Pluto\n",
      "2011-08-24 Dewey Dopey\n",
      "2016-10-23 Sneezy Hook\n",
      "2017-07-28 Sleepy Huey\n",
      "2010-06-23 Sneezy Alice\n",
      "2011-08-04 Louie Grumpy\n",
      "2014-05-04 Goofy Happy\n",
      "2016-04-18 Dopey Minnie\n",
      "2009-12-12 Dopey Peter\n",
      "2016-05-07 Bashful Grumpy\n",
      "2014-04-21 Peter Dewey\n",
      "2014-07-31 Daisy $crooge\n",
      "2015-11-28 Dewey Alice\n",
      "2011-08-07 Happy Sneezy\n",
      "2008-03-23 Sneezy Pluto\n",
      "2008-06-03 Goofy Pluto\n",
      "2014-07-21 Daisy Donald\n",
      "2012-11-14 Goofy Louie\n"
     ]
    }
   ],
   "source": [
    "for i, pcard in enumerate(p._postcards):\n",
    "                pcard = pcard.split(\";\")\n",
    "                date_key = pcard[0].split(\":\")[1]\n",
    "                from_key = pcard[1].split(\":\")[1]\n",
    "                to_key = pcard[2].split(\":\")[1]\n",
    "                #date_key= datetime.datetime.strptime(date_key,\"%Y-%m-%d\").date()\n",
    "                print (date_key, from_key, to_key)"
   ]
  },
  {
   "cell_type": "code",
   "execution_count": 138,
   "metadata": {},
   "outputs": [],
   "source": [
    "for i, pcard in enumerate(p._postcards):\n",
    "                pcard = pcard.split(\";\")\n",
    "                date_key = pcard[0].split(\":\")[1]\n",
    "                from_key = pcard[1].split(\":\")[1]\n",
    "                to_key = pcard[2].split(\":\")[1]\n",
    "                date_key= datetime.datetime.strptime(date_key,\"%Y-%m-%d\").date()\n",
    "\n",
    "                if date_key not in p._date:\n",
    "                    p._date[date_key] = [i]      \n",
    "                else:\n",
    "                    p._date[date_key].append(i)\n",
    "\n",
    "                if from_key not in p._from:\n",
    "                    p._from[from_key] = [i]\n",
    "                else:\n",
    "                    p._from[from_key].append(i)\n",
    "                \n",
    "                if to_key not in p._to:\n",
    "                    p._to[to_key] = [i]\n",
    "                else:\n",
    "                    p._to[to_key].append(i)"
   ]
  },
  {
   "cell_type": "code",
   "execution_count": 139,
   "metadata": {},
   "outputs": [
    {
     "name": "stdout",
     "output_type": "stream",
     "text": [
      "Date: {datetime.date(2013, 9, 16): [0, 0], datetime.date(2017, 3, 31): [1, 1], datetime.date(2011, 8, 24): [2, 2], datetime.date(2016, 10, 23): [3, 3], datetime.date(2017, 7, 28): [4, 4], datetime.date(2010, 6, 23): [5, 5], datetime.date(2011, 8, 4): [6, 6], datetime.date(2014, 5, 4): [7, 7], datetime.date(2016, 4, 18): [8, 8], datetime.date(2009, 12, 12): [9, 9], datetime.date(2016, 5, 7): [10, 10], datetime.date(2014, 4, 21): [11, 11], datetime.date(2014, 7, 31): [12, 12], datetime.date(2015, 11, 28): [13, 13], datetime.date(2011, 8, 7): [14, 14], datetime.date(2008, 3, 23): [15, 15], datetime.date(2008, 6, 3): [16, 16], datetime.date(2014, 7, 21): [17, 17], datetime.date(2012, 11, 14): [18, 18]} \n",
      "\n",
      "From: {'Dewey': [0, 2, 13, 0, 2, 13], 'Mickey': [1, 1], 'Sneezy': [3, 5, 15, 3, 5, 15], 'Sleepy': [4, 4], 'Louie': [6, 6], 'Goofy': [7, 16, 18, 7, 16, 18], 'Dopey': [8, 9, 8, 9], 'Bashful': [10, 10], 'Peter': [11, 11], 'Daisy': [12, 17, 12, 17], 'Happy': [14, 14]} \n",
      "\n",
      "To: {'Happy': [0, 7, 0, 7], 'Pluto': [1, 15, 16, 1, 15, 16], 'Dopey': [2, 2], 'Hook': [3, 3], 'Huey': [4, 4], 'Alice': [5, 13, 5, 13], 'Grumpy': [6, 10, 6, 10], 'Minnie': [8, 8], 'Peter': [9, 9], 'Dewey': [11, 11], '$crooge': [12, 12], 'Sneezy': [14, 14], 'Donald': [17, 17], 'Louie': [18, 18]}\n"
     ]
    }
   ],
   "source": [
    "print(\"Date:\", p._date, \"\\n\")\n",
    "print(\"From:\", p._from, \"\\n\")\n",
    "print(\"To:\", p._to)"
   ]
  },
  {
   "cell_type": "code",
   "execution_count": 140,
   "metadata": {},
   "outputs": [],
   "source": [
    "p.updateLists(\"exam_postcard_list1.txt\")"
   ]
  },
  {
   "cell_type": "code",
   "execution_count": 141,
   "metadata": {},
   "outputs": [
    {
     "name": "stdout",
     "output_type": "stream",
     "text": [
      "['date:2013-09-16; from:Dewey; to:Happy;\\n', 'date:2017-03-31; from:Mickey; to:Pluto;\\n', 'date:2011-08-24; from:Dewey; to:Dopey;\\n', 'date:2016-10-23; from:Sneezy; to:Hook;\\n', 'date:2017-07-28; from:Sleepy; to:Huey;\\n', 'date:2010-06-23; from:Sneezy; to:Alice;\\n', 'date:2011-08-04; from:Louie; to:Grumpy;\\n', 'date:2014-05-04; from:Goofy; to:Happy;\\n', 'date:2016-04-18; from:Dopey; to:Minnie;\\n', 'date:2009-12-12; from:Dopey; to:Peter;\\n', 'date:2016-05-07; from:Bashful; to:Grumpy;\\n', 'date:2014-04-21; from:Peter; to:Dewey;\\n', 'date:2014-07-31; from:Daisy; to:$crooge;\\n', 'date:2015-11-28; from:Dewey; to:Alice;\\n', 'date:2011-08-07; from:Happy; to:Sneezy;\\n', 'date:2008-03-23; from:Sneezy; to:Pluto;\\n', 'date:2008-06-03; from:Goofy; to:Pluto;\\n', 'date:2014-07-21; from:Daisy; to:Donald;\\n', 'date:2012-11-14; from:Goofy; to:Louie;\\n', 'date:2017-04-05; from:Bashful; to:Minnie;\\n', 'date:2013-06-19; from:Dopey; to:Sneezy;\\n', 'date:2011-07-03; from:Huey; to:Sneezy;\\n', 'date:2015-05-05; from:$crooge; to:Huey;\\n', 'date:2017-06-15; from:Huey; to:Happy;\\n', 'date:2016-01-19; from:Minnie; to:Sleepy;\\n', 'date:2013-12-12; from:Happy; to:Huey;\\n', 'date:2013-11-25; from:Bashful; to:Dewey;\\n', 'date:2016-08-23; from:Dopey; to:Minnie;\\n', 'date:2011-05-31; from:Louie; to:Bashful;\\n', 'date:2008-01-31; from:Sleepy; to:SnowWhite;\\n', 'date:2015-10-23; from:Doc; to:SnowWhite;\\n', 'date:2014-03-22; from:Sleepy; to:Mickey;\\n', 'date:2015-08-01; from:Sleepy; to:Grumpy;\\n']\n"
     ]
    }
   ],
   "source": [
    "print(p._postcards)"
   ]
  },
  {
   "cell_type": "code",
   "execution_count": 142,
   "metadata": {},
   "outputs": [],
   "source": [
    "p.parsePostcards()"
   ]
  },
  {
   "cell_type": "code",
   "execution_count": 143,
   "metadata": {},
   "outputs": [],
   "source": [
    "p.writeFile(\"output\")"
   ]
  },
  {
   "cell_type": "code",
   "execution_count": 144,
   "metadata": {},
   "outputs": [
    {
     "name": "stdout",
     "output_type": "stream",
     "text": [
      "date:2013-09-16; from:Dewey; to:Happy;\r\n",
      "date:2017-03-31; from:Mickey; to:Pluto;\r\n",
      "date:2011-08-24; from:Dewey; to:Dopey;\r\n",
      "date:2016-10-23; from:Sneezy; to:Hook;\r\n",
      "date:2017-07-28; from:Sleepy; to:Huey;\r\n",
      "date:2010-06-23; from:Sneezy; to:Alice;\r\n",
      "date:2011-08-04; from:Louie; to:Grumpy;\r\n",
      "date:2014-05-04; from:Goofy; to:Happy;\r\n",
      "date:2016-04-18; from:Dopey; to:Minnie;\r\n",
      "date:2009-12-12; from:Dopey; to:Peter;\r\n",
      "date:2016-05-07; from:Bashful; to:Grumpy;\r\n",
      "date:2014-04-21; from:Peter; to:Dewey;\r\n",
      "date:2014-07-31; from:Daisy; to:$crooge;\r\n",
      "date:2015-11-28; from:Dewey; to:Alice;\r\n",
      "date:2011-08-07; from:Happy; to:Sneezy;\r\n",
      "date:2008-03-23; from:Sneezy; to:Pluto;\r\n",
      "date:2008-06-03; from:Goofy; to:Pluto;\r\n",
      "date:2014-07-21; from:Daisy; to:Donald;\r\n",
      "date:2012-11-14; from:Goofy; to:Louie;\r\n",
      "date:2017-04-05; from:Bashful; to:Minnie;\r\n",
      "date:2013-06-19; from:Dopey; to:Sneezy;\r\n",
      "date:2011-07-03; from:Huey; to:Sneezy;\r\n",
      "date:2015-05-05; from:$crooge; to:Huey;\r\n",
      "date:2017-06-15; from:Huey; to:Happy;\r\n",
      "date:2016-01-19; from:Minnie; to:Sleepy;\r\n",
      "date:2013-12-12; from:Happy; to:Huey;\r\n",
      "date:2013-11-25; from:Bashful; to:Dewey;\r\n",
      "date:2016-08-23; from:Dopey; to:Minnie;\r\n",
      "date:2011-05-31; from:Louie; to:Bashful;\r\n",
      "date:2008-01-31; from:Sleepy; to:SnowWhite;\r\n",
      "date:2015-10-23; from:Doc; to:SnowWhite;\r\n",
      "date:2014-03-22; from:Sleepy; to:Mickey;\r\n",
      "date:2015-08-01; from:Sleepy; to:Grumpy;\r\n",
      "date:2013-09-16; from:Dewey; to:Happy;\r\n",
      "date:2017-03-31; from:Mickey; to:Pluto;\r\n",
      "date:2011-08-24; from:Dewey; to:Dopey;\r\n",
      "date:2016-10-23; from:Sneezy; to:Hook;\r\n",
      "date:2017-07-28; from:Sleepy; to:Huey;\r\n",
      "date:2010-06-23; from:Sneezy; to:Alice;\r\n",
      "date:2011-08-04; from:Louie; to:Grumpy;\r\n",
      "date:2014-05-04; from:Goofy; to:Happy;\r\n",
      "date:2016-04-18; from:Dopey; to:Minnie;\r\n",
      "date:2009-12-12; from:Dopey; to:Peter;\r\n",
      "date:2016-05-07; from:Bashful; to:Grumpy;\r\n",
      "date:2014-04-21; from:Peter; to:Dewey;\r\n",
      "date:2014-07-31; from:Daisy; to:$crooge;\r\n",
      "date:2015-11-28; from:Dewey; to:Alice;\r\n",
      "date:2011-08-07; from:Happy; to:Sneezy;\r\n",
      "date:2008-03-23; from:Sneezy; to:Pluto;\r\n",
      "date:2008-06-03; from:Goofy; to:Pluto;\r\n",
      "date:2014-07-21; from:Daisy; to:Donald;\r\n",
      "date:2012-11-14; from:Goofy; to:Louie;\r\n",
      "date:2017-04-05; from:Bashful; to:Minnie;\r\n",
      "date:2013-06-19; from:Dopey; to:Sneezy;\r\n",
      "date:2011-07-03; from:Huey; to:Sneezy;\r\n",
      "date:2015-05-05; from:$crooge; to:Huey;\r\n",
      "date:2017-06-15; from:Huey; to:Happy;\r\n",
      "date:2016-01-19; from:Minnie; to:Sleepy;\r\n",
      "date:2013-12-12; from:Happy; to:Huey;\r\n",
      "date:2013-11-25; from:Bashful; to:Dewey;\r\n",
      "date:2016-08-23; from:Dopey; to:Minnie;\r\n",
      "date:2011-05-31; from:Louie; to:Bashful;\r\n",
      "date:2008-01-31; from:Sleepy; to:SnowWhite;\r\n",
      "date:2015-10-23; from:Doc; to:SnowWhite;\r\n",
      "date:2014-03-22; from:Sleepy; to:Mickey;\r\n",
      "date:2015-08-01; from:Sleepy; to:Grumpy;\r\n",
      "date:2009-12-22; from:Louie; to:Sleepy;\r\n",
      "date:2009-02-16; from:Hook; to:Goofy;\r\n",
      "date:2008-01-02; from:$crooge; to:Doc;\r\n",
      "date:2009-01-30; from:Peter; to:Donald;\r\n",
      "date:2014-04-04; from:Sleepy; to:Louie;\r\n",
      "date:2012-09-06; from:Minnie; to:Huey;\r\n",
      "date:2016-10-03; from:Goofy; to:Daisy;\r\n",
      "date:2013-04-07; from:Dewey; to:Huey;\r\n",
      "date:2011-07-23; from:Hook; to:Grumpy;\r\n",
      "date:2009-02-09; from:SnowWhite; to:Minnie;\r\n",
      "date:2015-07-04; from:Sneezy; to:Daisy;\r\n",
      "date:2015-04-06; from:Dopey; to:Huey;\r\n",
      "date:2011-12-11; from:Daisy; to:Goofy;\r\n",
      "date:2014-11-15; from:Daisy; to:$crooge;\r\n",
      "date:2011-11-15; from:Daisy; to:Dewey;\r\n",
      "date:2014-08-17; from:Dopey; to:SnowWhite;\r\n",
      "date:2011-08-18; from:Dewey; to:SnowWhite;\r\n",
      "date:2015-01-31; from:Minnie; to:Dewey;\r\n",
      "date:2015-10-31; from:$crooge; to:Minnie;\r\n",
      "date:2015-10-12; from:Happy; to:Donald;\r\n",
      "date:2009-09-04; from:Grumpy; to:Doc;\r\n",
      "date:2009-04-15; from:Alice; to:Donald;\r\n",
      "date:2017-03-31; from:Doc; to:SnowWhite;\r\n"
     ]
    }
   ],
   "source": [
    "cat \"output.txt\""
   ]
  },
  {
   "cell_type": "code",
   "execution_count": 145,
   "metadata": {},
   "outputs": [],
   "source": [
    "p.updateLists(\"exam_postcard_list2.txt\")"
   ]
  },
  {
   "cell_type": "code",
   "execution_count": 146,
   "metadata": {},
   "outputs": [],
   "source": [
    "p.updateFile(\"output\")"
   ]
  },
  {
   "cell_type": "code",
   "execution_count": 147,
   "metadata": {},
   "outputs": [
    {
     "name": "stdout",
     "output_type": "stream",
     "text": [
      "date:2013-09-16; from:Dewey; to:Happy;\r\n",
      "date:2017-03-31; from:Mickey; to:Pluto;\r\n",
      "date:2011-08-24; from:Dewey; to:Dopey;\r\n",
      "date:2016-10-23; from:Sneezy; to:Hook;\r\n",
      "date:2017-07-28; from:Sleepy; to:Huey;\r\n",
      "date:2010-06-23; from:Sneezy; to:Alice;\r\n",
      "date:2011-08-04; from:Louie; to:Grumpy;\r\n",
      "date:2014-05-04; from:Goofy; to:Happy;\r\n",
      "date:2016-04-18; from:Dopey; to:Minnie;\r\n",
      "date:2009-12-12; from:Dopey; to:Peter;\r\n",
      "date:2016-05-07; from:Bashful; to:Grumpy;\r\n",
      "date:2014-04-21; from:Peter; to:Dewey;\r\n",
      "date:2014-07-31; from:Daisy; to:$crooge;\r\n",
      "date:2015-11-28; from:Dewey; to:Alice;\r\n",
      "date:2011-08-07; from:Happy; to:Sneezy;\r\n",
      "date:2008-03-23; from:Sneezy; to:Pluto;\r\n",
      "date:2008-06-03; from:Goofy; to:Pluto;\r\n",
      "date:2014-07-21; from:Daisy; to:Donald;\r\n",
      "date:2012-11-14; from:Goofy; to:Louie;\r\n",
      "date:2017-04-05; from:Bashful; to:Minnie;\r\n",
      "date:2013-06-19; from:Dopey; to:Sneezy;\r\n",
      "date:2011-07-03; from:Huey; to:Sneezy;\r\n",
      "date:2015-05-05; from:$crooge; to:Huey;\r\n",
      "date:2017-06-15; from:Huey; to:Happy;\r\n",
      "date:2016-01-19; from:Minnie; to:Sleepy;\r\n",
      "date:2013-12-12; from:Happy; to:Huey;\r\n",
      "date:2013-11-25; from:Bashful; to:Dewey;\r\n",
      "date:2016-08-23; from:Dopey; to:Minnie;\r\n",
      "date:2011-05-31; from:Louie; to:Bashful;\r\n",
      "date:2008-01-31; from:Sleepy; to:SnowWhite;\r\n",
      "date:2015-10-23; from:Doc; to:SnowWhite;\r\n",
      "date:2014-03-22; from:Sleepy; to:Mickey;\r\n",
      "date:2015-08-01; from:Sleepy; to:Grumpy;\r\n",
      "date:2013-09-16; from:Dewey; to:Happy;\r\n",
      "date:2017-03-31; from:Mickey; to:Pluto;\r\n",
      "date:2011-08-24; from:Dewey; to:Dopey;\r\n",
      "date:2016-10-23; from:Sneezy; to:Hook;\r\n",
      "date:2017-07-28; from:Sleepy; to:Huey;\r\n",
      "date:2010-06-23; from:Sneezy; to:Alice;\r\n",
      "date:2011-08-04; from:Louie; to:Grumpy;\r\n",
      "date:2014-05-04; from:Goofy; to:Happy;\r\n",
      "date:2016-04-18; from:Dopey; to:Minnie;\r\n",
      "date:2009-12-12; from:Dopey; to:Peter;\r\n",
      "date:2016-05-07; from:Bashful; to:Grumpy;\r\n",
      "date:2014-04-21; from:Peter; to:Dewey;\r\n",
      "date:2014-07-31; from:Daisy; to:$crooge;\r\n",
      "date:2015-11-28; from:Dewey; to:Alice;\r\n",
      "date:2011-08-07; from:Happy; to:Sneezy;\r\n",
      "date:2008-03-23; from:Sneezy; to:Pluto;\r\n",
      "date:2008-06-03; from:Goofy; to:Pluto;\r\n",
      "date:2014-07-21; from:Daisy; to:Donald;\r\n",
      "date:2012-11-14; from:Goofy; to:Louie;\r\n",
      "date:2017-04-05; from:Bashful; to:Minnie;\r\n",
      "date:2013-06-19; from:Dopey; to:Sneezy;\r\n",
      "date:2011-07-03; from:Huey; to:Sneezy;\r\n",
      "date:2015-05-05; from:$crooge; to:Huey;\r\n",
      "date:2017-06-15; from:Huey; to:Happy;\r\n",
      "date:2016-01-19; from:Minnie; to:Sleepy;\r\n",
      "date:2013-12-12; from:Happy; to:Huey;\r\n",
      "date:2013-11-25; from:Bashful; to:Dewey;\r\n",
      "date:2016-08-23; from:Dopey; to:Minnie;\r\n",
      "date:2011-05-31; from:Louie; to:Bashful;\r\n",
      "date:2008-01-31; from:Sleepy; to:SnowWhite;\r\n",
      "date:2015-10-23; from:Doc; to:SnowWhite;\r\n",
      "date:2014-03-22; from:Sleepy; to:Mickey;\r\n",
      "date:2015-08-01; from:Sleepy; to:Grumpy;\r\n",
      "date:2009-12-22; from:Louie; to:Sleepy;\r\n",
      "date:2009-02-16; from:Hook; to:Goofy;\r\n",
      "date:2008-01-02; from:$crooge; to:Doc;\r\n",
      "date:2009-01-30; from:Peter; to:Donald;\r\n",
      "date:2014-04-04; from:Sleepy; to:Louie;\r\n",
      "date:2012-09-06; from:Minnie; to:Huey;\r\n",
      "date:2016-10-03; from:Goofy; to:Daisy;\r\n",
      "date:2013-04-07; from:Dewey; to:Huey;\r\n",
      "date:2011-07-23; from:Hook; to:Grumpy;\r\n",
      "date:2009-02-09; from:SnowWhite; to:Minnie;\r\n",
      "date:2015-07-04; from:Sneezy; to:Daisy;\r\n",
      "date:2015-04-06; from:Dopey; to:Huey;\r\n",
      "date:2011-12-11; from:Daisy; to:Goofy;\r\n",
      "date:2014-11-15; from:Daisy; to:$crooge;\r\n",
      "date:2011-11-15; from:Daisy; to:Dewey;\r\n",
      "date:2014-08-17; from:Dopey; to:SnowWhite;\r\n",
      "date:2011-08-18; from:Dewey; to:SnowWhite;\r\n",
      "date:2015-01-31; from:Minnie; to:Dewey;\r\n",
      "date:2015-10-31; from:$crooge; to:Minnie;\r\n",
      "date:2015-10-12; from:Happy; to:Donald;\r\n",
      "date:2009-09-04; from:Grumpy; to:Doc;\r\n",
      "date:2009-04-15; from:Alice; to:Donald;\r\n",
      "date:2017-03-31; from:Doc; to:SnowWhite;\r\n"
     ]
    }
   ],
   "source": [
    "cat \"output.txt\""
   ]
  },
  {
   "cell_type": "code",
   "execution_count": 148,
   "metadata": {},
   "outputs": [
    {
     "data": {
      "text/plain": [
       "56"
      ]
     },
     "execution_count": 148,
     "metadata": {},
     "output_type": "execute_result"
    }
   ],
   "source": [
    "p.getNumberOfPostcards()"
   ]
  },
  {
   "cell_type": "code",
   "execution_count": 149,
   "metadata": {},
   "outputs": [
    {
     "data": {
      "text/plain": [
       "['date:2016-01-19; from:Minnie; to:Sleepy;\\n']"
      ]
     },
     "execution_count": 149,
     "metadata": {},
     "output_type": "execute_result"
    }
   ],
   "source": [
    "p.getPostcardsBySender(\"Minnie\")"
   ]
  },
  {
   "cell_type": "code",
   "execution_count": 150,
   "metadata": {},
   "outputs": [
    {
     "data": {
      "text/plain": [
       "['date:2016-04-18; from:Dopey; to:Minnie;\\n',\n",
       " 'date:2016-04-18; from:Dopey; to:Minnie;\\n',\n",
       " 'date:2016-04-18; from:Dopey; to:Minnie;\\n',\n",
       " 'date:2017-04-05; from:Bashful; to:Minnie;\\n',\n",
       " 'date:2016-08-23; from:Dopey; to:Minnie;\\n']"
      ]
     },
     "execution_count": 150,
     "metadata": {},
     "output_type": "execute_result"
    }
   ],
   "source": [
    "p.getPostcardsByReceiver(\"Minnie\")"
   ]
  },
  {
   "cell_type": "code",
   "execution_count": 169,
   "metadata": {},
   "outputs": [
    {
     "name": "stdout",
     "output_type": "stream",
     "text": [
      "2016-01-01\n",
      "<class 'datetime.date'>\n",
      "(datetime.date(2016, 1, 1), (2016, 12, 31))\n",
      "<class 'tuple'>\n",
      "2016-01-01\n",
      "<class 'datetime.date'>\n"
     ]
    }
   ],
   "source": [
    "low = datetime.date(2016, 1, 1)\n",
    "print (low)\n",
    "print(type(low))\n",
    "high = (2016, 12, 31)\n",
    "date_range = (low,high)\n",
    "print(date_range)\n",
    "print(type(date_range))\n",
    "prova = date_range[0]\n",
    "print (prova)\n",
    "print(type(prova))"
   ]
  },
  {
   "cell_type": "code",
   "execution_count": 161,
   "metadata": {},
   "outputs": [
    {
     "name": "stdout",
     "output_type": "stream",
     "text": [
      "{datetime.date(2013, 9, 16): [0, 0, 0], datetime.date(2017, 3, 31): [1, 1, 1], datetime.date(2011, 8, 24): [2, 2, 2], datetime.date(2016, 10, 23): [3, 3, 3], datetime.date(2017, 7, 28): [4, 4, 4], datetime.date(2010, 6, 23): [5, 5, 5], datetime.date(2011, 8, 4): [6, 6, 6], datetime.date(2014, 5, 4): [7, 7, 7], datetime.date(2016, 4, 18): [8, 8, 8], datetime.date(2009, 12, 12): [9, 9, 9], datetime.date(2016, 5, 7): [10, 10, 10], datetime.date(2014, 4, 21): [11, 11, 11], datetime.date(2014, 7, 31): [12, 12, 12], datetime.date(2015, 11, 28): [13, 13, 13], datetime.date(2011, 8, 7): [14, 14, 14], datetime.date(2008, 3, 23): [15, 15, 15], datetime.date(2008, 6, 3): [16, 16, 16], datetime.date(2014, 7, 21): [17, 17, 17], datetime.date(2012, 11, 14): [18, 18, 18], datetime.date(2017, 4, 5): [19], datetime.date(2013, 6, 19): [20], datetime.date(2011, 7, 3): [21], datetime.date(2015, 5, 5): [22], datetime.date(2017, 6, 15): [23], datetime.date(2016, 1, 19): [24], datetime.date(2013, 12, 12): [25], datetime.date(2013, 11, 25): [26], datetime.date(2016, 8, 23): [27], datetime.date(2011, 5, 31): [28], datetime.date(2008, 1, 31): [29], datetime.date(2015, 10, 23): [30], datetime.date(2014, 3, 22): [31], datetime.date(2015, 8, 1): [32]}\n"
     ]
    }
   ],
   "source": [
    "print(p._date)"
   ]
  },
  {
   "cell_type": "code",
   "execution_count": 170,
   "metadata": {},
   "outputs": [
    {
     "name": "stdout",
     "output_type": "stream",
     "text": [
      "2016-01-01\n",
      "(2016, 12, 31)\n"
     ]
    }
   ],
   "source": [
    "p.getPostcardsByDateRange(date_range)"
   ]
  },
  {
   "cell_type": "code",
   "execution_count": null,
   "metadata": {},
   "outputs": [],
   "source": []
  },
  {
   "cell_type": "code",
   "execution_count": null,
   "metadata": {},
   "outputs": [],
   "source": []
  }
 ],
 "metadata": {
  "kernelspec": {
   "display_name": "Python 3",
   "language": "python",
   "name": "python3"
  },
  "language_info": {
   "codemirror_mode": {
    "name": "ipython",
    "version": 3
   },
   "file_extension": ".py",
   "mimetype": "text/x-python",
   "name": "python",
   "nbconvert_exporter": "python",
   "pygments_lexer": "ipython3",
   "version": "3.7.0"
  }
 },
 "nbformat": 4,
 "nbformat_minor": 2
}
